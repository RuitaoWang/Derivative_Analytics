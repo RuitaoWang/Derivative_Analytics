{
 "cells": [
  {
   "cell_type": "markdown",
   "metadata": {},
   "source": [
    "# Derivative Analytics Library"
   ]
  },
  {
   "cell_type": "code",
   "execution_count": 1,
   "metadata": {
    "collapsed": true
   },
   "outputs": [],
   "source": [
    "import numpy as np\n",
    "import datetime as dt\n",
    "import pandas as pd\n",
    "import matplotlib.pyplot as plt\n",
    "from scipy.interpolate import interp1d\n",
    "import warnings\n",
    "warnings.filterwarnings('ignore', category=UserWarning, append=True)\n",
    "%matplotlib inline"
   ]
  },
  {
   "cell_type": "markdown",
   "metadata": {},
   "source": [
    "## Background Environment Setup"
   ]
  },
  {
   "cell_type": "code",
   "execution_count": 2,
   "metadata": {
    "collapsed": true
   },
   "outputs": [],
   "source": [
    "def get_YearDelta(date, day_count=365):\n",
    "    # return a ndarray contains day deltas in year\n",
    "    # Parameter:\n",
    "    '''\n",
    "    date(array): array of datetime\n",
    "    day_count(float): number of days for a year\n",
    "    '''\n",
    "    YearDelta = [(x-date[0]).days/day_count for x in date]\n",
    "    return np.array(YearDelta)"
   ]
  },
  {
   "cell_type": "code",
   "execution_count": 3,
   "metadata": {
    "collapsed": false
   },
   "outputs": [
    {
     "data": {
      "text/plain": [
       "array([ 0.        ,  0.24931507,  0.49863014,  0.75068493])"
      ]
     },
     "execution_count": 3,
     "metadata": {},
     "output_type": "execute_result"
    }
   ],
   "source": [
    "# test get_YearDelta function with 2016/1/1, 2016/4/1, 2016/7/1, 2016/10/1\n",
    "date = [dt.datetime(2016,1,1),dt.datetime(2016,4,1),dt.datetime(2016,7,1),dt.datetime(2016,10,1)]\n",
    "get_YearDelta(date)"
   ]
  },
  {
   "cell_type": "markdown",
   "metadata": {},
   "source": [
    "### Short Curve Class"
   ]
  },
  {
   "cell_type": "code",
   "execution_count": 4,
   "metadata": {
    "collapsed": true
   },
   "outputs": [],
   "source": [
    "class const_rate(object):\n",
    "    # a const_rate class \n",
    "    # attribute:\n",
    "    '''\n",
    "    name (string): name of the instance\n",
    "    short_rate (float): the constant short rate\n",
    "    '''\n",
    "    # method:\n",
    "    '''\n",
    "    get_discount_factor(date, dttype=True): get array of time as input and \n",
    "                                            return 2 dimensional discount factor along with time\n",
    "    '''\n",
    "    \n",
    "    def __init__(self, name, short_rate):\n",
    "        # default initialization\n",
    "        self.name=name\n",
    "        self.short_rate=short_rate\n",
    "        \n",
    "    def get_discount_factor(self, date, dttype=True):\n",
    "        # return an 2 dimensional array of discount factor along with day deltas in a row\n",
    "        if dttype is True:  # if date input was in datetime format\n",
    "            dlist=get_YearDelta(date)\n",
    "        else:               # if date input was already in day delta format\n",
    "            dlist=date\n",
    "        dflist = np.exp(self.short_rate*np.sort(-dlist))   # assume countinuos compunding\n",
    "        return np.array((date,dflist)).T       "
   ]
  },
  {
   "cell_type": "code",
   "execution_count": 5,
   "metadata": {
    "collapsed": false
   },
   "outputs": [
    {
     "data": {
      "text/plain": [
       "array([[datetime.datetime(2016, 1, 1, 0, 0), 0.96316143217545],\n",
       "       [datetime.datetime(2016, 4, 1, 0, 0), 0.9753767163648953],\n",
       "       [datetime.datetime(2016, 7, 1, 0, 0), 0.9876116222305686],\n",
       "       [datetime.datetime(2016, 10, 1, 0, 0), 1.0]], dtype=object)"
      ]
     },
     "execution_count": 5,
     "metadata": {},
     "output_type": "execute_result"
    }
   ],
   "source": [
    "# Test the const_rate class\n",
    "conrate = const_rate('conrate', 0.05)\n",
    "conrate.get_discount_factor(date)"
   ]
  },
  {
   "cell_type": "code",
   "execution_count": 6,
   "metadata": {
    "collapsed": true
   },
   "outputs": [],
   "source": [
    "class nonconst_rate(object):\n",
    "    # a nonconst_rate class takes two sequence as rate and time\n",
    "    # attribute:\n",
    "    '''\n",
    "    name (string): name of the instance\n",
    "    short_rate (ndarray): the array of short rate \n",
    "    date (ndarray): the array of the date\n",
    "    '''\n",
    "    # method:\n",
    "    '''\n",
    "    get_discount_factor(dttype): return 2 dimensional discount curve along with time\n",
    "    get_interp_graph(): return curve plot based on cubic spline interpolation\n",
    "    '''\n",
    "    def __init__(self, name, short_rate, date):\n",
    "        # default initialization\n",
    "        self.name=name\n",
    "        self.short_rate=short_rate\n",
    "        self.date = date\n",
    "    \n",
    "    def get_discount_factor(self,\n",
    "                            dttype=True):\n",
    "        if dttype is True:\n",
    "            dlist = get_YearDelta(self.date)\n",
    "        else:\n",
    "            dlist = np.array(self.date)\n",
    "        dflist = np.exp(self.short_rate*np.sort(-dlist))\n",
    "        return np.array((date,dflist)).T   \n",
    "    \n",
    "    def get_interp_graph(self):\n",
    "        time = get_YearDelta(self.date)\n",
    "        rate = self.short_rate\n",
    "        f = interp1d(time,rate,kind = 'cubic')\n",
    "        xnew = np.linspace(0.,np.max(time), num=40, endpoint=True)\n",
    "        fig = plt.plot(xnew,f(xnew),'-',linewidth=0.5)\n",
    "        plt.plot(time,rate,'ro')\n",
    "        plt.plot(time,rate,'--',linewidth=0.5)\n",
    "        plt.legend(['cubic','data'],loc='best')\n",
    "        return fig"
   ]
  },
  {
   "cell_type": "code",
   "execution_count": 7,
   "metadata": {
    "collapsed": false
   },
   "outputs": [
    {
     "data": {
      "image/png": "[encoded data removed]",
      "text/plain": [
       "<matplotlib.figure.Figure at 0x1035649e8>"
      ]
     },
     "metadata": {},
     "output_type": "display_data"
    }
   ],
   "source": [
    "# Test the nonconst_rate class\n",
    "short = np.array([0.05,0.03,0.05,0.06])\n",
    "rate = nonconst_rate('rate',short, date)\n",
    "rate.get_discount_factor()\n",
    "fig = rate.get_interp_graph()"
   ]
  },
  {
   "cell_type": "markdown",
   "metadata": {},
   "source": [
    "### Market Environment "
   ]
  },
  {
   "cell_type": "code",
   "execution_count": 8,
   "metadata": {
    "collapsed": false
   },
   "outputs": [],
   "source": [
    "class mar_env(object):\n",
    "    # a class holder for relative market environment \n",
    "    # attributes:\n",
    "    '''\n",
    "    name (string): object name\n",
    "    pricing_date (datetime): date of the market environment\n",
    "    constants (dictionary): model parameter such as volatility, risk free rate, etc. It can be a single object or an array\n",
    "    lists (dictionary): list of risky securities, such as stock etc\n",
    "    curves (dictionary): used to hold discounting cruve\n",
    "    '''\n",
    "    # methods:\n",
    "    '''\n",
    "    add_constants(key, constant), get_constants(key) : add and get element stored in dic according to key\n",
    "    add_lists(key, lists), get_lists(key) : add and get element stored in dic according to key\n",
    "    add_curves(key, curves), get_curves(key) : add and get element stored in dic according to key\n",
    "    add_env(): add abovementioned elements in the dictionary\n",
    "    print_env(): print information contained in the instance\n",
    "    '''\n",
    "    def __init__(self, name, price_date):\n",
    "        self.name = name\n",
    "        self.price_date = price_date\n",
    "        self.constants={}\n",
    "        self.lists={}\n",
    "        self.curves={}\n",
    "        \n",
    "    def add_constants(self,key,constant):\n",
    "        # constats as an attribute can be used to hold constant parameters.\n",
    "        self.constants[key] = constant    \n",
    "    def get_constants(self,key):\n",
    "        return self.constants[key]\n",
    "    \n",
    "    def add_lists(self, key, list_object):\n",
    "        # lists as an attribute can be used to hold securities.\n",
    "        self.lists[key] = list_object        \n",
    "    def get_lists(self, key):\n",
    "        return self.lists[key]\n",
    "    \n",
    "    def add_curves(self, key, curve):\n",
    "        # curves as an attribute can be used to hold short rate object.\n",
    "        self.curves[key] = curve        \n",
    "    def get_curves(self,key):\n",
    "        return self.curves[key]\n",
    "    \n",
    "    def add_env(self, env):\n",
    "        for key in env.constants:\n",
    "            self.constants[key] = env.constants[key]\n",
    "        for key in env.lists:\n",
    "            self.lists[key] = env.lists[key]\n",
    "        for key in env.curves:\n",
    "            self.curves[key] = env.curves[key]\n",
    "    \n",
    "    def print_env(self):\n",
    "        # print out all relevant market environment information\n",
    "        print(self.name, '(Price Date: ', self.price_date, ')\\n')\n",
    "        print('constants:')\n",
    "        print(self.constants, '\\n')\n",
    "        print('lists: ')\n",
    "        print(self.lists, '\\n')\n",
    "        print('curves: ')\n",
    "        print(self.curves)\n",
    "        "
   ]
  },
  {
   "cell_type": "code",
   "execution_count": 9,
   "metadata": {
    "collapsed": false
   },
   "outputs": [
    {
     "name": "stdout",
     "output_type": "stream",
     "text": [
      "market1 (Price Date:  2015-01-01 00:00:00 )\n",
      "\n",
      "constants:\n",
      "{'volatility': 0.3, 'riskfree': 0} \n",
      "\n",
      "lists: \n",
      "{'symbols': ['AAPL', 'MSFT', 'FB'], 'symbols2': ['NFLX', 'MS', 'GS']} \n",
      "\n",
      "curves: \n",
      "{'short_rate': <__main__.nonconst_rate object at 0x107152908>}\n"
     ]
    }
   ],
   "source": [
    "# test market objects\n",
    "market1 = mar_env('market1', dt.datetime(2015,1,1))\n",
    "market1.add_lists('symbols', ['AAPL','MSFT','FB'])\n",
    "market1.add_lists('symbols2',['NFLX','MS','GS'])\n",
    "market1.add_curves('short_rate',rate)\n",
    "market1.add_constants('volatility',0.3)\n",
    "market1.add_constants('riskfree', 0)\n",
    "market1.print_env()"
   ]
  },
  {
   "cell_type": "markdown",
   "metadata": {},
   "source": [
    "## Simulation"
   ]
  },
  {
   "cell_type": "code",
   "execution_count": 10,
   "metadata": {
    "collapsed": true
   },
   "outputs": [],
   "source": [
    "def sn_generator(dim, antithetic = True, moment_matching = True, fixed_seed = False):\n",
    "    # Used to generate random number with input dimension\n",
    "    # Return standard normal random variables in desired dimension and shpes\n",
    "    # 2 variane reduction (antithetic, moment_matching) method provided with Boolean variable\n",
    "    # Parameters:\n",
    "    '''\n",
    "    dim (tuple): 3 dim tuple that defines the dimension of the random number\n",
    "    antithetic: True if antithetic variance deduction method is applied\n",
    "    moment_matching: True if moment_matchign variance deduction method is applied\n",
    "    '''\n",
    "    if fixed_seed is True:\n",
    "        np.random.seed(10)\n",
    "    if antithetic is True:\n",
    "        rn = np.random.standard_normal((dim[0],dim[1],dim[2]/2))\n",
    "        rn = np.concatenate((rn,-rn),axis=2)  # apply antithetic method\n",
    "    else:\n",
    "        rn = np.random.standard_normal(dim)\n",
    "    if moment_matching is True:\n",
    "        rn = rn-np.mean(rn)\n",
    "        rn = rn/np.std(rn)   # apply moment matching method\n",
    "    if dim[0] ==1:\n",
    "        return rn[0]\n",
    "    else:\n",
    "        return rn"
   ]
  },
  {
   "cell_type": "code",
   "execution_count": 11,
   "metadata": {
    "collapsed": false
   },
   "outputs": [
    {
     "name": "stdout",
     "output_type": "stream",
     "text": [
      "random number generated: \n",
      "[[[ 1.3315865   0.71527897 -1.54540029 -0.00838385]\n",
      "  [ 0.62133597 -0.72008556  0.26551159  0.10854853]\n",
      "  [ 0.00429143 -0.17460021  0.43302619  1.20303737]\n",
      "  [-0.96506567  1.02827408  0.22863013  0.44513761]]\n",
      "\n",
      " [[-1.13660221  0.13513688  1.484537   -1.07980489]\n",
      "  [-1.97772828 -1.7433723   0.26607016  2.38496733]\n",
      "  [ 1.12369125  1.67262221  0.09914922  1.39799638]\n",
      "  [-0.27124799  0.61320418 -0.26731719 -0.54930901]]\n",
      "\n",
      " [[ 0.1327083  -0.47614201  1.30847308  0.19501328]\n",
      "  [ 0.40020999 -0.33763234  1.25647226 -0.7319695 ]\n",
      "  [ 0.66023155 -0.35087189 -0.93943336 -0.48933722]\n",
      "  [-0.80459114 -0.21269764 -0.33914025  0.31216994]]]\n",
      "mean:  0.0980537207591\n",
      "std:  0.916390229175\n"
     ]
    }
   ],
   "source": [
    "# Test sn_generator\n",
    "snrn = sn_generator((3,4,4),antithetic=False,moment_matching=False,fixed_seed=True)\n",
    "print('random number generated: ')\n",
    "print(snrn)\n",
    "print('mean: ', snrn.mean())\n",
    "print('std: ', snrn.std())"
   ]
  },
  {
   "cell_type": "markdown",
   "metadata": {},
   "source": [
    "### Generic Simulation Class"
   ]
  },
  {
   "cell_type": "code",
   "execution_count": 12,
   "metadata": {
    "collapsed": false
   },
   "outputs": [],
   "source": [
    "class simulation_class(object):\n",
    "    # generic class for simulation methods\n",
    "    # define the format and output for all simulation methods\n",
    "    # attributes:\n",
    "    '''\n",
    "    name (string): class name\n",
    "    mar_env (object): instance of market_environment\n",
    "    corr (boolean): True if correlated with other model object\n",
    "    '''\n",
    "    # parameter requirement:\n",
    "    '''\n",
    "    Madatory parameter that should be passed from the mar_env class:\n",
    "     price date, \n",
    "     from constants attribute: final_date, frequency, volatility, initial_value, paths\n",
    "     from curves attribuet: discoung_curve\n",
    "     \n",
    "    Optional parameter that should be passed from the mar_env class:\n",
    "     from lists attribute: \n",
    "        time_grid, cholesky_matrix, rn_set, random_nember\n",
    "     \n",
    "    '''\n",
    "    # methods:\n",
    "    '''\n",
    "    time_grid_generator(): generate a time grid contained in ndarray\n",
    "    get_instrumetn_values(): call the generate_paths method in sub class\n",
    "    get_hist(): provide histogram for the simulated final values\n",
    "    '''\n",
    "    def __init__(self, name, mar_env, corr=False):\n",
    "        try: # use try for information parse check and provide relavant error information\n",
    "            self.name = name\n",
    "            self.price_date = mar_env.price_date\n",
    "            self.final_date = mar_env.get_constants('final_date')\n",
    "            self.frequency = mar_env.get_constants('frequency')\n",
    "            self.volatility = mar_env.get_constants('volatility')\n",
    "            self.initial_value = mar_env.get_constants('initial_value')\n",
    "            self.discount_curve = mar_env.get_curves('discount_curve')\n",
    "            self.paths =  mar_env.get_constants('paths')\n",
    "            self.correlated = corr\n",
    "            if corr is True:  # if this simulation is correlated with other simulation\n",
    "                              # then cholesky decompositon was used to generate correlated \n",
    "                              # random number\n",
    "                self.cholesky_matrix = mar_env.get_lists('cholesky_matrix')\n",
    "                self.rn_set = mar_env.get_lists('rn_set')[self.name]   \n",
    "                self.random_numbers = mar_env.get_lists('random_numbers')\n",
    "            try:\n",
    "                self.time_grid = mar_env.get_lists('time_grid')\n",
    "            except:\n",
    "                self.time_grid=None\n",
    "        except:\n",
    "            print('Necessary information missing')\n",
    "    \n",
    "    def time_grid_generator(self):\n",
    "        # it generate a equally intervaled time grid for simulation.\n",
    "        # one thing should be noted is that it this function didn't return anything\n",
    "        start = self.price_date\n",
    "        end = self.final_date\n",
    "        time_grid=pd.date_range(start=start, end=end,freq=self.frequency).to_pydatetime()\n",
    "        if start not in time_grid:\n",
    "            time_grid=np.insert(time_grid,0,start)\n",
    "        if end not in time_grid:\n",
    "            time_grid.extend(end)\n",
    "        time_grid=list(time_grid)\n",
    "        self.time_grid = np.array(time_grid)\n",
    "    \n",
    "    \n",
    "    def get_instrument_values(self, fixed_seed = True):\n",
    "        self.generate_paths(fixed_seed = fixed_seed, day_count=365)\n",
    "        return self.instrument_values     \n",
    "    \n",
    "    def get_hist(self):\n",
    "        plt.hist(self.instrument_values[-1],bins=50)\n",
    "        plt.xlabel('final value')\n",
    "        plt.ylabel('frequency')\n",
    "        plt.grid(True)\n",
    "        plt.title('Final value for simulation')"
   ]
  },
  {
   "cell_type": "markdown",
   "metadata": {},
   "source": [
    "### Geometric Brownian Motion"
   ]
  },
  {
   "cell_type": "code",
   "execution_count": 13,
   "metadata": {
    "collapsed": false
   },
   "outputs": [],
   "source": [
    "class geometric_brownian_motion(simulation_class):\n",
    "    # a sub clas inheritated from the simulaiton_class\n",
    "    # attribute:\n",
    "    '''\n",
    "    name (string): name of the object\n",
    "    mar_env(object): instantce of market environment\n",
    "    corr (Boolean): wheter correlated with other simulation\n",
    "    '''\n",
    "    # method:\n",
    "    '''\n",
    "    \n",
    "    '''\n",
    "    def __init__(self, name, mar_env,corr=False):\n",
    "        # No additional information needed other than information from simulation_class\n",
    "        super(geometric_brownian_motion, self).__init__(name, mar_env, corr)\n",
    "    \n",
    "    def update(self, initial_value=None, volatility=None, final_date=None, price_date = None):\n",
    "        # update the main attribute for the GBM simulation\n",
    "        if initial_value is not None:\n",
    "            self.initial_value = initial_value\n",
    "        if volatility is not None:\n",
    "            self.volatility = volatility\n",
    "        if final_date is not None:\n",
    "            self.final_date = final_date\n",
    "        if price_date is not None:\n",
    "            self.price_date = price_date\n",
    "        self.instrument_value=None\n",
    "    \n",
    "    def generate_paths(self, fixed_seed = False, day_count=365.):\n",
    "        if self.time_grid is None:\n",
    "            self.time_grid_generator()\n",
    "        M = len(self.time_grid)  # time interval\n",
    "        N = self.paths           # number of simulation path\n",
    "        paths = np.zeros((M,N))\n",
    "        paths[0] = self.initial_value\n",
    "        if not self.correlated:\n",
    "            rand = sn_generator((1,M,N),fixed_seed=fixed_seed)\n",
    "        else:\n",
    "            rand = self.random_numbers\n",
    "        shor_rate = self.discount_curve.short_rate\n",
    "        for t in range(1, len(self.time_grid)):\n",
    "            if not self.correlated:\n",
    "                ran = rand[t]\n",
    "            else:\n",
    "                ran = np.dot(self.cholesky_matrix, rand[:,t,:])\n",
    "                ran = ran[self.rn_set]\n",
    "            dt = (self.time_grid[t]-self.time_grid[t-1]).days/day_count\n",
    "            paths[t] = paths[t-1]*np.exp((self.discount_curve.short_rate - 0.5*self.volatility**2)*dt+self.volatility*np.sqrt(dt)*ran)\n",
    "        self.instrument_values = paths    "
   ]
  },
  {
   "cell_type": "code",
   "execution_count": 14,
   "metadata": {
    "collapsed": false
   },
   "outputs": [
    {
     "data": {
      "text/plain": [
       "(array([ 735964.,  735995.,  736024.,  736055.,  736085.,  736116.,\n",
       "         736146.,  736177.,  736208.,  736238.,  736269.,  736299.]),\n",
       " <a list of 12 Text xticklabel objects>)"
      ]
     },
     "execution_count": 14,
     "metadata": {},
     "output_type": "execute_result"
    },
    {
     "data": {
      "image/png": "[encoded data removed]",
      "text/plain": [
       "<matplotlib.figure.Figure at 0x107341470>"
      ]
     },
     "metadata": {},
     "output_type": "display_data"
    }
   ],
   "source": [
    "# Test GBM simulation\n",
    "mar_env = mar_env('mar_env',dt.datetime(2016,1,1))\n",
    "mar_env.add_constants('initial_value', 36.)\n",
    "mar_env.add_constants('volatility',0.2)\n",
    "mar_env.add_constants('final_date', dt.datetime(2016,12,31))\n",
    "mar_env.add_constants('frequency','M')\n",
    "mar_env.add_constants('paths', 10000)\n",
    "csr = const_rate('csr', 0.05)\n",
    "mar_env.add_curves('discount_curve', csr)\n",
    "gbm = geometric_brownian_motion('gbm', mar_env)\n",
    "gbm.time_grid_generator()\n",
    "paths1 = gbm.get_instrument_values()\n",
    "plt.figure(figsize=(4,3))\n",
    "plt.plot(gbm.time_grid,paths1[:, :10],'b')\n",
    "plt.grid(True)\n",
    "plt.xticks(rotation=30)"
   ]
  },
  {
   "cell_type": "code",
   "execution_count": 15,
   "metadata": {
    "collapsed": false
   },
   "outputs": [
    {
     "data": {
      "image/png": "[encoded data removed]",
      "text/plain": [
       "<matplotlib.figure.Figure at 0x107335dd8>"
      ]
     },
     "metadata": {},
     "output_type": "display_data"
    }
   ],
   "source": [
    "gbm.get_hist()"
   ]
  },
  {
   "cell_type": "markdown",
   "metadata": {},
   "source": [
    "### Jump Diffusion"
   ]
  },
  {
   "cell_type": "markdown",
   "metadata": {},
   "source": [
    "### Mean Reverting"
   ]
  },
  {
   "cell_type": "markdown",
   "metadata": {},
   "source": [
    "## Derivative Valuation"
   ]
  },
  {
   "cell_type": "markdown",
   "metadata": {},
   "source": [
    "### Generic Valuation Class"
   ]
  },
  {
   "cell_type": "code",
   "execution_count": 16,
   "metadata": {
    "collapsed": true
   },
   "outputs": [],
   "source": [
    "class valuation_class(object):\n",
    "    # generic class for single factor valuation model\n",
    "    # attribtue:\n",
    "    '''\n",
    "    name (string): name of the object\n",
    "    underlying (object): instance of simulation class\n",
    "    mar_env (object): instance of market environment\n",
    "    payoff_func(string): payoff function at maturity\n",
    "    '''\n",
    "    '''\n",
    "    mandatory parameter should inherited from mar_env:\n",
    "     from constant: maturity\n",
    "     from attribute: maturity date, frequency, discount_curve\n",
    "    optional parameter:\n",
    "     strike (only for option)\n",
    "    '''\n",
    "    # method\n",
    "    \n",
    "    def __init__(self, name, underlying, mar_env, payoff_func=''):\n",
    "        try:\n",
    "            self.name=name\n",
    "            self.price_date = mar_env.price_date\n",
    "            self.maturity=mar_env.get_constants('maturity')\n",
    "            self.frequency=underlying.frequency\n",
    "            self.paths = underlying.paths\n",
    "            self.discount_curve = underlying.discount_curve\n",
    "            self.payoff_func = payoff_func\n",
    "            self.underlying = underlying\n",
    "            try:\n",
    "                self.strike=mar_env.get_constants('strike')\n",
    "            except:\n",
    "                pass\n",
    "        except:\n",
    "            print('Extra necessary information needed')\n",
    "            \n",
    "    def update(self, initial_value=None, volatility=None, strike = None, maturity=None):\n",
    "        if initial_value is not None:\n",
    "            self.underlying.update(initial_value = initial_value)\n",
    "        if volatility is not None:\n",
    "            self.underlying.update(volatility = volatility)\n",
    "        if strike is not None:\n",
    "            self.strike = strike\n",
    "        if maturity is not None:\n",
    "            self.maturity = maturity\n",
    "            if not maturity in self.underlying.time_grid:\n",
    "                self.underlying.special_dates.append(maturity)\n",
    "        self.underlying.instrument_values = None\n",
    "        \n",
    "        \n",
    "    def delta(self,interval=None):\n",
    "        if interval is None:\n",
    "            interval = self.underlying.initial_value/50.\n",
    "        value_left=self.present_value(fixed_seed=True)\n",
    "        initial_del = self.underlying.initial_value+interval\n",
    "        self.underlying.update(initial_value=initial_del)\n",
    "        value_right = self.present_value(fixed_seed=True)\n",
    "        self.underlying.update(initial_value=initial_del-interval)\n",
    "        delta = (value_right-value_left)/interval\n",
    "        return delta\n",
    "    \n",
    "    def vega(self,interval=0.01):\n",
    "        if interval < self.underlying.volatility/50.:\n",
    "            interval=self.underlying.volatility/50.\n",
    "        value_left=self.present_value(fixed_seed=True)\n",
    "        vola_del=self.underlying.volatility+interval\n",
    "        self.underlying.update(volatility=vola_del)\n",
    "        value_right=self.present_value(fixed_seed=True)\n",
    "        self.underlying.update(volatility=vola_del-interval)\n",
    "        vega = (value_right-value_left)/interval\n",
    "        return vega  "
   ]
  },
  {
   "cell_type": "markdown",
   "metadata": {},
   "source": [
    "### European Option with Monte Carlo Simulation"
   ]
  },
  {
   "cell_type": "code",
   "execution_count": 17,
   "metadata": {
    "collapsed": true
   },
   "outputs": [],
   "source": [
    "class valuation_mcs_euro(valuation_class):\n",
    "    # one factor monte-carlo simulation valuation\n",
    "    def generate_payoff(self,fixed_seed=False):\n",
    "        try:\n",
    "            strike=self.strike\n",
    "        except:\n",
    "            pass\n",
    "        paths = self.underlying.get_instrument_values(fixed_seed=fixed_seed)\n",
    "        time_grid = self.underlying.time_grid\n",
    "        try:\n",
    "            time_index = np.where(time_grid ==self.maturity)[0]\n",
    "            time_index = int(time_index)\n",
    "        except:\n",
    "            print('Maturity should be in the time grid')\n",
    "        maturity_value = paths[time_index]\n",
    "        mean_value=np.mean(paths[:time_index],axis=1)\n",
    "        max_value=np.amax(paths[:time_index],axis=1)[-1]\n",
    "        max_value=np.amax(paths[:time_index],axis=1)[-1]\n",
    "        try:\n",
    "            payoff = eval(self.payoff_func)\n",
    "            return payoff\n",
    "        except:\n",
    "            print('Payoff function error')\n",
    "    \n",
    "    def present_value(self, accuracy=6,fixed_seed=False, full = False):\n",
    "        cash_flow = self.generate_payoff(fixed_seed=fixed_seed)\n",
    "        discount_factor = self.discount_curve.get_discount_factor((self.price_date,self.maturity))[0,1]\n",
    "        result = discount_factor*np.sum(cash_flow)/len(cash_flow)\n",
    "        if full:\n",
    "            return result, discount_factor*cash_flow\n",
    "        else:\n",
    "            return result"
   ]
  },
  {
   "cell_type": "code",
   "execution_count": 18,
   "metadata": {
    "collapsed": false
   },
   "outputs": [
    {
     "name": "stdout",
     "output_type": "stream",
     "text": [
      "option value:  2.08391070036\n",
      "CPU times: user 6.64 ms, sys: 1.72 ms, total: 8.36 ms\n",
      "Wall time: 7.65 ms\n",
      "delta:  0.44829805635\n",
      "CPU times: user 21.9 ms, sys: 1.64 ms, total: 23.5 ms\n",
      "Wall time: 42.2 ms\n",
      "veta:  14.0693749699\n",
      "CPU times: user 21.8 ms, sys: 902 µs, total: 22.7 ms\n",
      "Wall time: 37.2 ms\n"
     ]
    }
   ],
   "source": [
    "# Test\n",
    "mar_env.add_constants('strike', 40.)\n",
    "mar_env.add_constants('maturity', dt.datetime(2016,12,31))\n",
    "payoff_func='np.maximum(maturity_value-strike,0)'\n",
    "euro_call = valuation_mcs_euro('euro_call', underlying = gbm, mar_env=mar_env, payoff_func=payoff_func)\n",
    "%time print('option value: ', euro_call.present_value())\n",
    "%time print('delta: ', euro_call.delta())\n",
    "%time print('veta: ', euro_call.vega())\n"
   ]
  },
  {
   "cell_type": "markdown",
   "metadata": {},
   "source": [
    "### American Option with Longstaff & Schwartz"
   ]
  },
  {
   "cell_type": "code",
   "execution_count": 19,
   "metadata": {
    "collapsed": false
   },
   "outputs": [],
   "source": [
    "class longstaff_schwartz(valuation_class):\n",
    "    # Can be used for both American and Bermudan option\n",
    "    # inherited information form valuation_class\n",
    "    # method:\n",
    "    def generate_payoff(self, fixed_seed = False):\n",
    "        try:\n",
    "            strike = self.strike\n",
    "        except:\n",
    "            print('no strike price')\n",
    "        paths = self.underlying.get_instrument_values(fixed_seed=fixed_seed)\n",
    "        time_grid = self.underlying.time_grid       \n",
    "        time_index_start = np.where(time_grid==self.price_date)[0]\n",
    "        time_index_start = int(time_index_start)\n",
    "        time_index_end = np.where(time_grid==self.maturity)[0]\n",
    "        time_index_end = int(time_index_end)\n",
    "        instrument_values = paths[time_index_start:time_index_end+1]\n",
    "        try:\n",
    "            payoff = eval(self.payoff_func)\n",
    "            return instrument_values, payoff, time_index_start, time_index_end\n",
    "        except:\n",
    "            print('Error in evaluation payoff function')\n",
    "            \n",
    "    \n",
    "    def present_value(self, fixed_seed=False, bf = 4, full=False):\n",
    "        # return option value\n",
    "        # parameters:\n",
    "        '''\n",
    "        bf (int): basis function choice\n",
    "        full (Boolean): return full array of values or a single option value\n",
    "        '''\n",
    "        \n",
    "        instrument_values, inner_values,time_start, time_end = self.generate_payoff(fixed_seed = fixed_seed)\n",
    "        time_list=self.underlying.time_grid[time_start:time_end+1]\n",
    "        discount_factors=self.discount_curve.get_discount_factor(time_list, dttype=True)\n",
    "        v = inner_values[-1]\n",
    "        for t in range(len(time_list)-2,0,-1):\n",
    "            df = discount_factors[t,1]/discount_factors[t+1,1]\n",
    "            reg = np.polyfit(instrument_values[t],v*df, bf)\n",
    "            c = np.polyval(reg, instrument_values[t])\n",
    "            v = np.where(inner_values[t]>c, inner_values[t], v*df)\n",
    "        df = discount_factors[0,1]/discount_factors[1,1]\n",
    "        result = df*np.sum(v)/len(v)\n",
    "        if full:\n",
    "            return result, df*v\n",
    "        else:\n",
    "            return result"
   ]
  },
  {
   "cell_type": "code",
   "execution_count": 20,
   "metadata": {
    "collapsed": false
   },
   "outputs": [
    {
     "name": "stdout",
     "output_type": "stream",
     "text": [
      "Basis function of 4:  4.56824125778\n",
      "CPU times: user 51.4 ms, sys: 3.27 ms, total: 54.6 ms\n",
      "Wall time: 81.9 ms\n",
      "Basis function of 5:  4.5791461387\n",
      "CPU times: user 44.7 ms, sys: 2.19 ms, total: 46.9 ms\n",
      "Wall time: 51.4 ms\n"
     ]
    }
   ],
   "source": [
    "# Test\n",
    "payoff_func = 'np.maximum(strike-instrument_values, 0)'\n",
    "Ameri_Put = longstaff_schwartz('Ameri_Put', underlying = gbm, mar_env=mar_env, payoff_func=payoff_func)\n",
    "% time print('Basis function of 4: ', Ameri_Put.present_value(fixed_seed=True, bf=4))\n",
    "% time print('Basis function of 5: ', Ameri_Put.present_value(fixed_seed=True, bf=5))"
   ]
  },
  {
   "cell_type": "markdown",
   "metadata": {},
   "source": [
    "## Portfolio"
   ]
  },
  {
   "cell_type": "markdown",
   "metadata": {},
   "source": [
    "### Generic Portfolio class"
   ]
  },
  {
   "cell_type": "code",
   "execution_count": 21,
   "metadata": {
    "collapsed": true
   },
   "outputs": [],
   "source": [
    "class derivative_position(object):\n",
    "    # class that hold derivative position\n",
    "    # attribute:\n",
    "    '''\n",
    "    name(string): name of the positon\n",
    "    quantity (float): number of derivatives\n",
    "    underlying (string): name of asset for derivative\n",
    "    mar_env (object): instantce of market environment\n",
    "    otype (string): valuation method to use\n",
    "    payoff_func (string): payoff function in string format\n",
    "    '''\n",
    "    \n",
    "    # method:\n",
    "    \n",
    "    def __init__(self, name, quantity, underlying, mar_env, otype, payoff_func):\n",
    "        self.name = name\n",
    "        self.quantity = quantity\n",
    "        self.underlying = underlying\n",
    "        self.mar_env = mar_env\n",
    "        self.otype = otype\n",
    "        self.payoff_func = payoff_func\n",
    "        \n",
    "        \n",
    "    def print_info(self):\n",
    "        print('Name: ', self.name, '\\n')\n",
    "        print('Quantity: ', self.quantity)\n",
    "        print('Underlying: ', self.underlying)\n",
    "        self.mar_env.print_env()\n",
    "        print('Derivative Type: ', self.otype)\n",
    "        print('Payoff Function: ', self.payoff_func)\n",
    "        \n",
    "    "
   ]
  },
  {
   "cell_type": "code",
   "execution_count": 22,
   "metadata": {
    "collapsed": false
   },
   "outputs": [],
   "source": [
    "dev_po = derivative_position(name = 'dev_po',\n",
    "                            quantity = 1,\n",
    "                            underlying = 'gbm',\n",
    "                            mar_env = mar_env,\n",
    "                            otype='European',\n",
    "                            payoff_func=payoff_func)"
   ]
  },
  {
   "cell_type": "code",
   "execution_count": 23,
   "metadata": {
    "collapsed": false
   },
   "outputs": [
    {
     "name": "stdout",
     "output_type": "stream",
     "text": [
      "Name:  dev_po \n",
      "\n",
      "Quantity:  1\n",
      "Underlying:  gbm\n",
      "mar_env (Price Date:  2016-01-01 00:00:00 )\n",
      "\n",
      "constants:\n",
      "{'strike': 40.0, 'initial_value': 36.0, 'paths': 10000, 'frequency': 'M', 'volatility': 0.2, 'maturity': datetime.datetime(2016, 12, 31, 0, 0), 'final_date': datetime.datetime(2016, 12, 31, 0, 0)} \n",
      "\n",
      "lists: \n",
      "{} \n",
      "\n",
      "curves: \n",
      "{'discount_curve': <__main__.const_rate object at 0x1073414e0>}\n",
      "Derivative Type:  European\n",
      "Payoff Function:  np.maximum(strike-instrument_values, 0)\n"
     ]
    }
   ],
   "source": [
    "dev_po.print_info()"
   ]
  },
  {
   "cell_type": "code",
   "execution_count": 24,
   "metadata": {
    "collapsed": false
   },
   "outputs": [],
   "source": [
    "class derivative_position(object):\n",
    "    # class for derivative portfolio analysis\n",
    "    # attribtue:\n",
    "    '''\n",
    "    name (string): name of the portfolio\n",
    "    positions (dic): a dictionary of derivative and quantity\n",
    "    mar_env (object): instance of market environment\n",
    "    assets (dic): dictionary of market environments for assets\n",
    "    correlation (list): correlation between lists\n",
    "    fixed_seed (Boolean): true if use fixed random number\n",
    "    '''\n",
    "    # method\n",
    "    \n",
    "    def __init__(self, name, positions, env, assets, correlations = None, fixed_seed = False):\n",
    "        self.name = name\n",
    "        self.positions = positions\n",
    "        self.env = env\n",
    "        self.assets = assets\n",
    "        self.underlyings = set()\n",
    "        sefl.correlations = correlations\n",
    "        self.time_grid = None\n",
    "        self.underlying_objects = {}\n",
    "        self.valuation_objects = {}\n",
    "        self.fixed_seed = fixed_seed\n",
    "        self.special_dates = []\n",
    "        for p in self.positions:\n",
    "            self.env.constants['starting_date'] = min(self.env.constants['starting_date'],positions[p].mar_env.price_date)\n",
    "            self.env.constants['final_date'] = max(self.mar_env.constants['final_date'],positions[p].mar_env.constants['maturity'])\n",
    "            self.underlyings.add(positions[p].underlying)\n",
    "        start = self.env.constants['starting_date']\n",
    "        end = self.env.constants['final_date']\n",
    "        time_grid = pd.date_range(start=start,end=end,freq=self.env.constants['frequency']).to_pydatetime()\n",
    "        time_grid=list(time_grid)\n",
    "        for p in self.positions:\n",
    "            maturity_date = positions[p].mar_env.constants['maturity']\n",
    "            if maturity_date not in time_grid:\n",
    "                time_grid = np.insert(time_grid,0,maturity_date)\n",
    "                self.special_dates.append(maturity_date)\n",
    "        if start not in time_grid:\n",
    "            time_grid=np.insert(time_grid,0,start)\n",
    "        if end not in time_grid:\n",
    "            time_grid.append(end)\n",
    "        time_grid = list(set(time_grid))\n",
    "        time_grid.sort()\n",
    "        self.time_grid=np.array(time_grid)\n",
    "        self.env.add_list('time_grid', self.time_grid)\n",
    "        if correlations is not None:\n",
    "            ul_list=sorted(self.underlyings)\n",
    "            correlation_matrix=np.zeros((len(ul_list),len(ul_list)))\n",
    "            np.fill_diagonal(correlation_matrix, 1.0)\n",
    "            correlation_matrix = pd.DataFrame(correlation_matrix, index=ul_list,columns=ul_list)\n",
    "            for i, j, corr in correlations:\n",
    "                corr = min(corr,1.0)\n",
    "                correlation_matrix.loc[i,j] = corr\n",
    "                correlation_matrix.loc[j,i] = corr\n",
    "            cholesky_matrix = np.linalg.cholesky(np.array(correlation_matrix))\n",
    "            rn_set={asset:ul_list.index(asset) for asset in self.underlyings}\n",
    "            random_numbers = sn_random_numbers((len(rn_set),len(self.time_grid),self.env.constants['paths']),fixed_seed = self.fixed_seed)\n",
    "            self.env.add_list('cholesky_matrix', cholesky_matrix)\n",
    "            self.env.add_list('random_numbers',random_numbers)\n",
    "            slef.env.add_list('rn_set',rn_set)\n",
    "            \n",
    "        for asset in self.underlyings:\n",
    "            mar_env = self.assets[asset]\n",
    "            mar_env.add_environment(env)\n",
    "            model = models[mar_env.constants['model']]\n",
    "            if correlations is not None:\n",
    "                self.underlying_objects[asset] = model(asset, mar_env, corr=True)\n",
    "            else:\n",
    "                self.underlying_objects[asset] = model(asset, mar_env, corr=False)\n",
    "        \n",
    "        for p in positions:\n",
    "            val_class=otyp[positions[p].otype]\n",
    "            mar_env = positions[p].mar_env\n",
    "            mar_env.add_environment(self.env)\n",
    "            self.valuation_objects[p] = val_class(name=positions[p].name, mar_env=mar_env,\n",
    "                                                 underlying=self.underlying_objects[positions[p].underlying],\n",
    "                                                 payoff_func = positions[p].payoff_func)\n",
    "            \n",
    "    \n",
    "    def get_positions(self):\n",
    "        for p in self.positions:\n",
    "            bar = '\\n'+50*'-'\n",
    "            print(bar)\n",
    "            self.positions[p].print_info()\n",
    "            print(bar)\n",
    "            \n",
    "    \n",
    "    def get_statistics(self, fixed_seed=False):\n",
    "        res_list=[]\n",
    "        for pos, value in self.valuation_objects.items():\n",
    "            p = self.positions[pos]\n",
    "            pv = value.present_value(fixed_seed = fixed_seed)\n",
    "            res_list.append([\n",
    "                    p.name,\n",
    "                    p.quantity,\n",
    "                    pv,\n",
    "                    pv*p.quantity,\n",
    "                    value.delta()*p.quantity,\n",
    "                    value.vega()*p.quantity\n",
    "                ])\n",
    "        res_df=pd.DataFrame(res_list,columns=['name','quant.','value','curr.','pos_value','pos_delta','pos_vega'])\n",
    "        return res_df"
   ]
  },
  {
   "cell_type": "code",
   "execution_count": 25,
   "metadata": {
    "collapsed": false
   },
   "outputs": [],
   "source": [
    "models ={'gbm':geometric_brownian_motion}\n",
    "otypes={'European':valuation_mcs_euro,\n",
    "       'American': longstaff_schwartz}"
   ]
  },
  {
   "cell_type": "code",
   "execution_count": 27,
   "metadata": {
    "collapsed": false
   },
   "outputs": [
    {
     "ename": "TypeError",
     "evalue": "'mar_env' object is not callable",
     "output_type": "error",
     "traceback": [
      "\u001b[0;31m---------------------------------------------------------------------------\u001b[0m",
      "\u001b[0;31mTypeError\u001b[0m                                 Traceback (most recent call last)",
      "\u001b[0;32m<ipython-input-27-29fb27b109e8>\u001b[0m in \u001b[0;36m<module>\u001b[0;34m()\u001b[0m\n\u001b[0;32m----> 1\u001b[0;31m \u001b[0mme_jd\u001b[0m \u001b[0;34m=\u001b[0m \u001b[0mmar_env\u001b[0m\u001b[0;34m(\u001b[0m\u001b[0;34m'me_jd'\u001b[0m\u001b[0;34m,\u001b[0m \u001b[0mdt\u001b[0m\u001b[0;34m.\u001b[0m\u001b[0mdatetime\u001b[0m\u001b[0;34m(\u001b[0m\u001b[0;36m2015\u001b[0m\u001b[0;34m,\u001b[0m\u001b[0;36m1\u001b[0m\u001b[0;34m,\u001b[0m\u001b[0;36m1\u001b[0m\u001b[0;34m)\u001b[0m\u001b[0;34m)\u001b[0m\u001b[0;34m\u001b[0m\u001b[0m\n\u001b[0m",
      "\u001b[0;31mTypeError\u001b[0m: 'mar_env' object is not callable"
     ]
    }
   ],
   "source": [
    "me_jd = mar_env('me_jd', dt.datetime(2015,1,1))"
   ]
  },
  {
   "cell_type": "code",
   "execution_count": null,
   "metadata": {
    "collapsed": false
   },
   "outputs": [],
   "source": [
    "me_euro_call = mar_env('me_euro_call', dt.datetime(2015,1,1))"
   ]
  },
  {
   "cell_type": "code",
   "execution_count": null,
   "metadata": {
    "collapsed": true
   },
   "outputs": [],
   "source": [
    "me_euro_call.add_constants('maturity', dt.datetime(2016,6,30))\n",
    "me_euro_call.add_constants('strike',38.)\n",
    "payoff_func='np.maximum(maturity_value-strike,0)'"
   ]
  },
  {
   "cell_type": "code",
   "execution_count": null,
   "metadata": {
    "collapsed": false
   },
   "outputs": [],
   "source": [
    "euro_call_pos = derivative_position(name='euro_call_pos',\n",
    "                                   quantity=5,\n",
    "                                   underlying='gbm',\n",
    "                                   mar_env=me_euro_call,\n",
    "                                   otype='European',\n",
    "                                   payoff_func=payoff_func)"
   ]
  },
  {
   "cell_type": "code",
   "execution_count": null,
   "metadata": {
    "collapsed": true
   },
   "outputs": [],
   "source": [
    "underlyings = {'gbm':}"
   ]
  }
 ],
 "metadata": {
  "kernelspec": {
   "display_name": "Python 3",
   "language": "python",
   "name": "python3"
  },
  "language_info": {
   "codemirror_mode": {
    "name": "ipython",
    "version": 3
   },
   "file_extension": ".py",
   "mimetype": "text/x-python",
   "name": "python",
   "nbconvert_exporter": "python",
   "pygments_lexer": "ipython3",
   "version": "3.5.2"
  }
 },
 "nbformat": 4,
 "nbformat_minor": 1
}
