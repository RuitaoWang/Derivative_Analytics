{
 "cells": [
  {
   "cell_type": "markdown",
   "metadata": {},
   "source": [
    "# Derivative Analytics Library"
   ]
  },
  {
   "cell_type": "markdown",
   "metadata": {},
   "source": [
    "## Background Environment Setup"
   ]
  },
  {
   "cell_type": "code",
   "execution_count": 1,
   "metadata": {
    "collapsed": true
   },
   "outputs": [],
   "source": [
    "import numpy as np\n",
    "import datetime as dt\n",
    "import pandas as pd\n",
    "import matplotlib.pyplot as plt\n",
    "from scipy.interpolate import interp1d\n",
    "%matplotlib inline"
   ]
  },
  {
   "cell_type": "code",
   "execution_count": 2,
   "metadata": {
    "collapsed": true
   },
   "outputs": [],
   "source": [
    "def get_YearDelta(date, day_count=365):\n",
    "    # return a ndarray contains day deltas in year\n",
    "    # Parameter:\n",
    "    '''\n",
    "    date (array of datetime)\n",
    "    day_count(float): number of days for a year\n",
    "    '''\n",
    "    YearDelta = [(x-date[0]).days/day_count for x in date]\n",
    "    return np.array(YearDelta)"
   ]
  },
  {
   "cell_type": "code",
   "execution_count": 4,
   "metadata": {
    "collapsed": false
   },
   "outputs": [
    {
     "data": {
      "text/plain": [
       "array([ 0.        ,  0.24931507,  0.49863014,  0.75068493])"
      ]
     },
     "execution_count": 4,
     "metadata": {},
     "output_type": "execute_result"
    }
   ],
   "source": [
    "# test get_YearDelta function with 2016/1/1, 2016/4/1, 2016/7/1, 2016/10/1\n",
    "date = [dt.datetime(2016,1,1),dt.datetime(2016,4,1),dt.datetime(2016,7,1),dt.datetime(2016,10,1)]\n",
    "get_YearDelta(date)"
   ]
  },
  {
   "cell_type": "markdown",
   "metadata": {},
   "source": [
    "### Short Curve Class"
   ]
  },
  {
   "cell_type": "code",
   "execution_count": 5,
   "metadata": {
    "collapsed": true
   },
   "outputs": [],
   "source": [
    "class const_rate(object):\n",
    "    # a const_rate class \n",
    "    # Attribute:\n",
    "    '''\n",
    "    name (string): name of the instance\n",
    "    short_rate (float): the constant short rate\n",
    "    '''\n",
    "    def __init__(self, name, short_rate):\n",
    "        # default initialization\n",
    "        self.name=name\n",
    "        self.short_rate=short_rate\n",
    "        \n",
    "    def get_discount_factor(self, date, dttype=True):\n",
    "        # return an array of discount factor along with days delta in a row\n",
    "        if dttype is True:\n",
    "            dlist=get_YearDelta(date)\n",
    "        else:\n",
    "            dlist=date\n",
    "        dflist = np.exp(self.short_rate*np.sort(-dlist))\n",
    "        return np.array((date,dflist)).T      "
   ]
  },
  {
   "cell_type": "code",
   "execution_count": 10,
   "metadata": {
    "collapsed": false
   },
   "outputs": [
    {
     "data": {
      "text/plain": [
       "array([[datetime.datetime(2016, 1, 1, 0, 0), 0.96316143217545],\n",
       "       [datetime.datetime(2016, 4, 1, 0, 0), 0.9753767163648953],\n",
       "       [datetime.datetime(2016, 7, 1, 0, 0), 0.9876116222305686],\n",
       "       [datetime.datetime(2016, 10, 1, 0, 0), 1.0]], dtype=object)"
      ]
     },
     "execution_count": 10,
     "metadata": {},
     "output_type": "execute_result"
    }
   ],
   "source": [
    "# Test the const_rate class\n",
    "conrate = const_rate('conrate', 0.05)\n",
    "conrate.get_discount_factor(date)"
   ]
  },
  {
   "cell_type": "code",
   "execution_count": 14,
   "metadata": {
    "collapsed": true
   },
   "outputs": [],
   "source": [
    "class nonconst_rate(object):\n",
    "    # a nonconst_rate class takes two sequence as rate and time\n",
    "    # Attribute:\n",
    "    '''\n",
    "    name (string): name of the instance\n",
    "    short_rate (ndarray): the array of short rate\n",
    "    date (ndarray): the array of the date\n",
    "    '''\n",
    "    def __init__(self, name, short_rate, date):\n",
    "        # default initialization\n",
    "        self.name=name\n",
    "        self.short_rate=short_rate\n",
    "        self.date = date\n",
    "    \n",
    "    def get_discount_factor(self,dttype=True):\n",
    "        if dttype is True:\n",
    "            dlist = get_YearDelta(self.date)\n",
    "        else:\n",
    "            dlist = np.array(self.date)\n",
    "        dflist = np.exp(self.short_rate*np.sort(-dlist))\n",
    "        return np.array((date,dflist)).T   \n",
    "    \n",
    "    def get_interp_graph(self):\n",
    "        time = get_YearDelta(self.date)\n",
    "        rate = self.short_rate\n",
    "        f = interp1d(time,rate,kind = 'cubic')\n",
    "        xnew = np.linspace(0,np.max(time), num=40, endpoint=True)\n",
    "        fig = plt.plot(xnew,f(xnew),'-',linewidth=0.5)\n",
    "        plt.plot(time,rate,'ro')\n",
    "        plt.plot(time,rate,'--',linewidth=0.5)\n",
    "        plt.legend(['cubic','data'],loc='best')\n",
    "        return fig"
   ]
  },
  {
   "cell_type": "code",
   "execution_count": 16,
   "metadata": {
    "collapsed": false
   },
   "outputs": [
    {
     "data": {
      "image/png": "[encoded data removed]",
      "text/plain": [
       "<matplotlib.figure.Figure at 0x10d06bd68>"
      ]
     },
     "metadata": {},
     "output_type": "display_data"
    }
   ],
   "source": [
    "# Test the nonconst_rate class\n",
    "short = np.array([0.05,0.03,0.05,0.06])\n",
    "rate = nonconst_rate('rate',short, date)\n",
    "rate.get_discount_factor()\n",
    "fig = rate.get_interp_graph()"
   ]
  },
  {
   "cell_type": "markdown",
   "metadata": {},
   "source": [
    "### Market Environment "
   ]
  },
  {
   "cell_type": "code",
   "execution_count": 50,
   "metadata": {
    "collapsed": false
   },
   "outputs": [],
   "source": [
    "class mar_env(object):\n",
    "    # a class holder for relative market environment \n",
    "    # attributes:\n",
    "    '''\n",
    "    name (string): object name\n",
    "    pricing_date (datetime): date of the market environment\n",
    "    constants (dictionary): model parameter such as volatility, risk free rate, etc. It can be a single object or an array\n",
    "    lists (dictionary): list of risky securities, such as stock etc\n",
    "    curves (dictionary): used to hold discounting cruve\n",
    "    '''\n",
    "    # methods:\n",
    "    def __init__(self, name, price_date):\n",
    "        self.name = name\n",
    "        self.price_date = price_date\n",
    "        self.constants={}\n",
    "        self.lists={}\n",
    "        self.curves={}\n",
    "        \n",
    "    def add_constants(self,key,constant):\n",
    "        # constats as an attribute can be used to hold constant parameters.\n",
    "        self.constants[key] = constant    \n",
    "    def get_constants(self,key):\n",
    "        return self.constants[key]\n",
    "    \n",
    "    def add_lists(self, key, list_object):\n",
    "        # lists as an attribute can be used to hold securities.\n",
    "        self.lists[key] = list_object        \n",
    "    def get_lists(self, key):\n",
    "        return self.lists[key]\n",
    "    \n",
    "    def add_curves(self, key, curve):\n",
    "        # curves as an attribute can be used to hold short rate object.\n",
    "        self.curves[key] = curve        \n",
    "    def get_curves(self,key):\n",
    "        return self.curves[key]\n",
    "    \n",
    "    def add_env(self, env):\n",
    "        for key in env.constants:\n",
    "            self.constants[key] = env.constants[key]\n",
    "        for key in env.lists:\n",
    "            self.lists[key] = env.lists[key]\n",
    "        for key in env.curves:\n",
    "            self.curves[key] = env.curves[key]\n",
    "    \n",
    "    def print_env(self):\n",
    "        # print out all relevant market environment information\n",
    "        print(self.name, '(Pricing Date: ', self.price_date, ')\\n')\n",
    "        print('constants:')\n",
    "        print(self.constants, '\\n')\n",
    "        print('lists: ')\n",
    "        print(self.lists, '\\n')\n",
    "        print('curves: ')\n",
    "        print(self.curves)\n",
    "        "
   ]
  },
  {
   "cell_type": "code",
   "execution_count": 51,
   "metadata": {
    "collapsed": false
   },
   "outputs": [
    {
     "name": "stdout",
     "output_type": "stream",
     "text": [
      "market1 (Pricing Date:  2015-01-01 00:00:00 )\n",
      "\n",
      "constants:\n",
      "{'riskfree': 0, 'volatility': 0.3} \n",
      "\n",
      "lists: \n",
      "{'symbols': ['AAPL', 'MSFT', 'FB'], 'symbols2': ['NFLX', 'MS', 'GS']} \n",
      "\n",
      "curves: \n",
      "{'short_rate': <__main__.nonconst_rate object at 0x10d06be80>}\n"
     ]
    }
   ],
   "source": [
    "# test market objects\n",
    "market1 = mar_env('market1', dt.datetime(2015,1,1))\n",
    "market1.add_lists('symbols', ['AAPL','MSFT','FB'])\n",
    "market1.add_lists('symbols2',['NFLX','MS','GS'])\n",
    "market1.add_curves('short_rate',rate)\n",
    "market1.get_curves('short_rate')\n",
    "market1.add_constants('volatility',0.3)\n",
    "market1.add_constants('riskfree', 0)\n",
    "market1.print_env()"
   ]
  },
  {
   "cell_type": "markdown",
   "metadata": {},
   "source": [
    "## Simulation"
   ]
  },
  {
   "cell_type": "code",
   "execution_count": 53,
   "metadata": {
    "collapsed": true
   },
   "outputs": [],
   "source": [
    "def sn_generator(dim, antithetic = True, moment_matching = True, fixed_seed = False):\n",
    "    # Used to generate random number with input dimension\n",
    "    # Parameters:\n",
    "    '''\n",
    "    dim (tuple): 3 dim tuple that defines the dimension of the random number\n",
    "    antithetic: True if antithetic variance deduction method is applied\n",
    "    moment_matching: True if moment_matchign variance deduction method is applied\n",
    "    '''\n",
    "    if fixed_seed is True:\n",
    "        np.random.seed(10)\n",
    "    if antithetic is True:\n",
    "        rn = np.random.standard_normal((dim[0],dim[1],dim[2]/2))\n",
    "        rn = np.concatenate((ran,-ran),axis=2)\n",
    "    else:\n",
    "        rn = np.random.standard_normal(dim)\n",
    "    if moment_matching is True:\n",
    "        rn = rn-np.mean(rn)\n",
    "        rn = rn/np.std(rn)\n",
    "    if dim[0] ==1:\n",
    "        return rn[0]\n",
    "    else:\n",
    "        return rn"
   ]
  },
  {
   "cell_type": "code",
   "execution_count": 58,
   "metadata": {
    "collapsed": false
   },
   "outputs": [
    {
     "name": "stdout",
     "output_type": "stream",
     "text": [
      "random number generated: \n",
      "[[[ 1.3315865   0.71527897 -1.54540029 -0.00838385]\n",
      "  [ 0.62133597 -0.72008556  0.26551159  0.10854853]\n",
      "  [ 0.00429143 -0.17460021  0.43302619  1.20303737]\n",
      "  [-0.96506567  1.02827408  0.22863013  0.44513761]]\n",
      "\n",
      " [[-1.13660221  0.13513688  1.484537   -1.07980489]\n",
      "  [-1.97772828 -1.7433723   0.26607016  2.38496733]\n",
      "  [ 1.12369125  1.67262221  0.09914922  1.39799638]\n",
      "  [-0.27124799  0.61320418 -0.26731719 -0.54930901]]\n",
      "\n",
      " [[ 0.1327083  -0.47614201  1.30847308  0.19501328]\n",
      "  [ 0.40020999 -0.33763234  1.25647226 -0.7319695 ]\n",
      "  [ 0.66023155 -0.35087189 -0.93943336 -0.48933722]\n",
      "  [-0.80459114 -0.21269764 -0.33914025  0.31216994]]]\n",
      "mean:  0.0980537207591\n",
      "std:  0.916390229175\n"
     ]
    }
   ],
   "source": [
    "# Test sn_generator\n",
    "snrn = sn_generator((3,4,4),antithetic=False,moment_matching=False,fixed_seed=True)\n",
    "print('random number generated: ')\n",
    "print(snrn)\n",
    "print('mean: ', snrn.mean())\n",
    "print('std: ', snrn.std())"
   ]
  },
  {
   "cell_type": "code",
   "execution_count": 61,
   "metadata": {
    "collapsed": false
   },
   "outputs": [],
   "source": [
    "class simulation_class(object):\n",
    "    # attributes:\n",
    "    '''\n",
    "    name (string): class name\n",
    "    mar_env (object): instance of market_environment\n",
    "    corr (boolean): True if correlated with other model object\n",
    "    '''\n",
    "    \n",
    "    '''\n",
    "    Madatory parameter that should be passed from the mar_env class:\n",
    "     price date, \n",
    "     from constants attribute: final_date, frequency, volatility, initial_value\n",
    "     from curves attribuet: discoung_curve\n",
    "     \n",
    "    Optional parameter that should be passed from the mar_env class:\n",
    "     from lists attribute: \n",
    "        time_grid, cholesky_matrix, rn_set, random_nember\n",
    "     \n",
    "    '''\n",
    "    # methods:\n",
    "    def __init__(self, name, mar_env, corr):\n",
    "        try:\n",
    "            self.name = name\n",
    "            self.price_date = mar_env.price_date\n",
    "            self.final_date = mar_env.get_constants('final_date')\n",
    "            self.frequency = mar_env.get_constants('frequency')\n",
    "            self.volatility = mar_env.get_constants('volatility')\n",
    "            self.initial_value = mar_env.get_constants('initial_value')\n",
    "            self.discount_curve = mar_env.get_curves('discount_curve')\n",
    "            self.correlated = corr\n",
    "            if corr is True:\n",
    "                self.cholesky_matrix = mar_env.get_lists('cholesky_matrix')\n",
    "                self.rn_set = mar_env.get_lists('rn_set')[self.name]\n",
    "                self.random_numbers = mar_env.get_lists('random_numbers')\n",
    "            try:\n",
    "                self.time_grid = mar_env.get_lists('time_grid')\n",
    "            except:\n",
    "                self.time_grid=None\n",
    "        except:\n",
    "            print('Necessary information missing')\n",
    "    \n",
    "    def time_grid_generator(self):\n",
    "        # it generate a equally intervaled time grid for simulation.\n",
    "        # one thing should be noted is that it this function didn't return anything\n",
    "        start = self.price_date\n",
    "        end = self.final_date\n",
    "        time_grid=pd.date_range(start=start, end=end,freq=self.frenncy).topydatetime()\n",
    "        time_grid=list(time_grid)\n",
    "        self.time_grid = np.array(time_grid)\n",
    "    \n",
    "    \n",
    "    def get_instrument_values(self, fixed_seed = True):\n",
    "        self.generate_paths(fixed_seed = fixed_seed, day_count=365)\n",
    "        return self.instrument_values       "
   ]
  },
  {
   "cell_type": "code",
   "execution_count": null,
   "metadata": {
    "collapsed": true
   },
   "outputs": [],
   "source": []
  }
 ],
 "metadata": {
  "kernelspec": {
   "display_name": "Python 3",
   "language": "python",
   "name": "python3"
  },
  "language_info": {
   "codemirror_mode": {
    "name": "ipython",
    "version": 3
   },
   "file_extension": ".py",
   "mimetype": "text/x-python",
   "name": "python",
   "nbconvert_exporter": "python",
   "pygments_lexer": "ipython3",
   "version": "3.5.2"
  }
 },
 "nbformat": 4,
 "nbformat_minor": 1
}
